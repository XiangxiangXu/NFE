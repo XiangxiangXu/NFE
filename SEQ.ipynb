{
  "nbformat": 4,
  "nbformat_minor": 0,
  "metadata": {
    "colab": {
      "provenance": [],
      "collapsed_sections": [
        "78gQNYDcuorW"
      ],
      "include_colab_link": true
    },
    "kernelspec": {
      "name": "python3",
      "display_name": "Python 3"
    },
    "language_info": {
      "name": "python"
    }
  },
  "cells": [
    {
      "cell_type": "markdown",
      "metadata": {
        "id": "view-in-github",
        "colab_type": "text"
      },
      "source": [
        "<a href=\"https://colab.research.google.com/github/XiangxiangXu/NFE/blob/main/SEQ.ipynb\" target=\"_parent\"><img src=\"https://colab.research.google.com/assets/colab-badge.svg\" alt=\"Open In Colab\"/></a>"
      ]
    },
    {
      "cell_type": "markdown",
      "source": [
        "Demo to learn dependence structure from sequential data."
      ],
      "metadata": {
        "id": "ArMcA6ajHXsj"
      }
    },
    {
      "cell_type": "code",
      "execution_count": 1,
      "metadata": {
        "id": "AqGAxL5gXEDa",
        "colab": {
          "base_uri": "https://localhost:8080/"
        },
        "outputId": "f11714bc-ac1e-4390-ed12-af1590e4c425"
      },
      "outputs": [
        {
          "output_type": "stream",
          "name": "stdout",
          "text": [
            "No GPU available, using the CPU instead.\n"
          ]
        }
      ],
      "source": [
        "import torch\n",
        "if torch.cuda.is_available():\n",
        "    device = torch.device(\"cuda\")\n",
        "    print(f'There are {torch.cuda.device_count()} GPU(s) available.')\n",
        "    print('Device name:', torch.cuda.get_device_name(0))\n",
        "\n",
        "else:\n",
        "    print('No GPU available, using the CPU instead.')\n",
        "    device = torch.device(\"cpu\")"
      ]
    },
    {
      "cell_type": "code",
      "execution_count": 2,
      "metadata": {
        "id": "NN-G8RfRQgeN"
      },
      "outputs": [],
      "source": [
        "import numpy as np\n",
        "\n",
        "delta = 2\n",
        "\n",
        "#    s[i + delta] = np.mod(np.sum(s[i:i+delta]) + z, 2)\n",
        "\n",
        "# 1st order Markov\n",
        "def gen_s(L, p = .75):\n",
        "    s = np.random.choice(2, size=L)\n",
        "    for i in range(L-2):\n",
        "        z = (np.random.rand() < p)\n",
        "        s[i + 2] = np.mod(s[i + 1] + z, 2)\n",
        "    return s\n",
        "\n",
        "# 2nd order Markov\n",
        "def gen_t(L, p = .75):\n",
        "    t = np.random.choice(2, size=L)\n",
        "    for i in range(L-2):\n",
        "        z = (np.random.rand() > p)\n",
        "        t[i + 2] = np.mod(t[i] + z, 2)\n",
        "    return t\n",
        "\n",
        "L = 12000\n",
        "s = gen_s(L)\n",
        "t = gen_t(L)"
      ]
    },
    {
      "cell_type": "markdown",
      "source": [
        "Plot two sequences."
      ],
      "metadata": {
        "id": "I5-2cZ8cJx5y"
      }
    },
    {
      "cell_type": "code",
      "source": [
        "from matplotlib import pyplot as plt\n",
        "\n",
        "plt.rcParams['image.cmap'] = 'PuRd'#'BuPu'#'YlOrRd'#YlGn'#Purples'\n",
        "\n",
        "def plot_seq(seq):\n",
        "    plt.figure(figsize = (10, 1))\n",
        "    plt.pcolormesh(seq.reshape(1, -1), edgecolors='w', linewidth=1, vmin = -.2, vmax = 1) #.8)\n",
        "    ax = plt.gca()\n",
        "    ax.set_aspect('equal')\n",
        "    ax.axis('off')\n",
        "\n",
        "random_number = np.random.randint(0, L-100)\n",
        "plot_seq(s[random_number:random_number+30])\n",
        "plot_seq(t[random_number:random_number+30])\n",
        "\n"
      ],
      "metadata": {
        "colab": {
          "base_uri": "https://localhost:8080/",
          "height": 107
        },
        "id": "sOG89zZGJzB3",
        "outputId": "8a510892-cee2-4aaf-b549-6725478bf98e"
      },
      "execution_count": 3,
      "outputs": [
        {
          "output_type": "display_data",
          "data": {
            "text/plain": [
              "<Figure size 1000x100 with 1 Axes>"
            ],
            "image/png": "[encoded data removed]"
          },
          "metadata": {}
        },
        {
          "output_type": "display_data",
          "data": {
            "text/plain": [
              "<Figure size 1000x100 with 1 Axes>"
            ],
            "image/png": "[encoded data removed]"
          },
          "metadata": {}
        }
      ]
    },
    {
      "cell_type": "markdown",
      "source": [
        "train on s or t"
      ],
      "metadata": {
        "id": "oecpC8MpTyI6"
      }
    },
    {
      "cell_type": "code",
      "source": [
        "seq = t\n",
        "\n",
        "#### or\n",
        "# seq = s"
      ],
      "metadata": {
        "id": "14_SE4ihin3H"
      },
      "execution_count": 4,
      "outputs": []
    },
    {
      "cell_type": "code",
      "source": [
        "x_card = 2\n",
        "batchsize = 128\n",
        "\n",
        "x3 = seq[::4]\n",
        "x2 = seq[1::4]\n",
        "x1 = seq[2::4]\n",
        "x0 = seq[3::4]\n",
        "\n",
        "import torch\n",
        "import torch.nn.functional as F\n",
        "tensorize = lambda x: torch.LongTensor(x)\n",
        "onehot_bi_tensor = lambda x: F.one_hot(torch.tensor(x), 2).type(torch.FloatTensor)\n",
        "X0, X1, X2, X3 = map(tensorize, [x0, x1, x2, x3])\n",
        "\n",
        "\n",
        "from torch.utils.data import TensorDataset, DataLoader\n",
        "\n",
        "# dataloder for training\n",
        "ds = TensorDataset(X0, X1, X2, X3)\n",
        "dl = DataLoader(ds, batch_size=batchsize, shuffle = True)"
      ],
      "metadata": {
        "id": "1IC8A20qekkD"
      },
      "execution_count": 5,
      "outputs": []
    },
    {
      "cell_type": "markdown",
      "source": [
        "### Packaging the Sub-Networks\n",
        "\n"
      ],
      "metadata": {
        "id": "NgZfk9cc15BK"
      }
    },
    {
      "cell_type": "code",
      "source": [
        "from torch import nn, optim\n",
        "\n",
        "class fc_net(nn.Module): # fully connected\n",
        "    def __init__(self, fdim, num_classes):\n",
        "        super().__init__()\n",
        "        self.fc = nn.Linear(num_classes, fdim)\n",
        "\n",
        "    def forward(self, x):\n",
        "        f = self.fc(x)\n",
        "        return f\n",
        "\n",
        "\n",
        "\n",
        "\n",
        "class fg_nn_seq(nn.Module):\n",
        "    def __init__(self, f_net, g_net_list):\n",
        "        # f_net: output a list of outputs\n",
        "        # g_nets_list: a list of nn.Modules\n",
        "        super().__init__()\n",
        "        self.f_net = f_net\n",
        "        self.g_net_list = g_net_list\n",
        "\n",
        "    def forward(self, x_history, x0):\n",
        "        # x_history = x[-1], x[-2], ...\n",
        "        f = self.f_net(x_history)\n",
        "        len_history = x_history.shape[1]\n",
        "        f_list = [f[:, i, :] for i in range(len_history)]\n",
        "        g_list = [g(x0) for g in self.g_net_list]\n",
        "        return f_list, g_list\n",
        "\n",
        "\n",
        "class enc_history(nn.Module):\n",
        "    def __init__(self, d_model, nhead, dim_feedforward, num_layers, len_history, embedding = True, batch_first = True):\n",
        "        super().__init__()\n",
        "        self.len_history = len_history\n",
        "        if embedding:\n",
        "            self.emb_list = [nn.Embedding(card, d_model) for i in range(len_history)]\n",
        "        self.enc_layer = nn.TransformerEncoderLayer(d_model=d_model, nhead=nhead, dim_feedforward=dim_feedforward, batch_first=batch_first)\n",
        "        self.enc = nn.TransformerEncoder(self.enc_layer, num_layers=num_layers)\n",
        "\n",
        "    def forward(self, x_history):\n",
        "        emb_list = [self.emb_list[i](x_history[:, i]) for i in range(self.len_history)]\n",
        "        emb_res = torch.stack(emb_list, axis = 1)\n",
        "        attn_mask = nn.Transformer.generate_square_subsequent_mask(self.len_history)\n",
        "        return self.enc(emb_res, mask = attn_mask, is_causal=True)"
      ],
      "metadata": {
        "id": "JcfSufBy2kmr"
      },
      "execution_count": 6,
      "outputs": []
    },
    {
      "cell_type": "code",
      "source": [
        "card = 2\n",
        "k = 8\n",
        "len_history = 3"
      ],
      "metadata": {
        "id": "r87vaFBJZ0Np"
      },
      "execution_count": 7,
      "outputs": []
    },
    {
      "cell_type": "code",
      "source": [
        "\n",
        "\n",
        "enc_hist = enc_history(d_model = k, nhead = 1, dim_feedforward = 8, num_layers = 3, len_history = 3)\n",
        "model = fg_nn_seq(enc_hist, [nn.Embedding(card, k) for i in range(len_history)])#[g1_net, g2_net, g3_net])\n",
        "\n",
        "opt = optim.Adam(model.parameters())"
      ],
      "metadata": {
        "id": "CliyFG_Rg3jP",
        "colab": {
          "base_uri": "https://localhost:8080/"
        },
        "outputId": "0180cf95-c102-480b-a642-349e4f701db4"
      },
      "execution_count": 8,
      "outputs": [
        {
          "output_type": "stream",
          "name": "stderr",
          "text": [
            "/usr/local/lib/python3.10/dist-packages/torch/nn/modules/transformer.py:282: UserWarning: enable_nested_tensor is True, but self.use_nested_tensor is False because encoder_layer.self_attn.num_heads is odd\n",
            "  warnings.warn(f\"enable_nested_tensor is True, but self.use_nested_tensor is False because {why_not_sparsity_fast_path}\")\n"
          ]
        }
      ]
    },
    {
      "cell_type": "markdown",
      "source": [
        "H-score computation"
      ],
      "metadata": {
        "id": "XEhJ4a5SULGv"
      }
    },
    {
      "cell_type": "code",
      "source": [
        "centralize = lambda x: x - torch.mean(x, 0) # zero-mean\n",
        "cov = lambda x: x.T @ x / x.size()[0] # covariance\n",
        "\n",
        "def get_info(f, g):\n",
        "    cov_f = cov(f)\n",
        "    cov_g = cov(g)\n",
        "    return torch.trace(cov_f @ cov_g)\n",
        "\n",
        "def neg_hscore(f, g):\n",
        "    \"\"\"\n",
        "    compute the negative h-score\n",
        "    \"\"\"\n",
        "    f0 = centralize(f)\n",
        "    g0 = centralize(g)\n",
        "    corr = torch.mean(torch.sum(f0*g0, 1))\n",
        "    # to generate zero-mean f, g\n",
        "    info = get_info(f, g)\n",
        "    return - corr + info / 2.\n",
        "\n",
        "\n",
        "def neg_hscore_seq(f_list, g_list):\n",
        "    \"\"\"\n",
        "    compute the (nagative) H-score for seq:\n",
        "\n",
        "    from dim 0\n",
        "    \"\"\"\n",
        "    terms = len(f_list)\n",
        "    # batchsize x seq_len x dim\n",
        "\n",
        "    res = 0\n",
        "    for i in range(terms):\n",
        "        f = torch.cat(f_list[:i+1], axis = 1)\n",
        "        g = torch.cat(g_list[:i+1], axis = 1)\n",
        "        res += neg_hscore(f, g)\n",
        "    return res\n",
        "\n",
        "\n",
        "nEpochs = 100\n",
        "\n",
        "from tqdm import tqdm\n",
        "for epoch in tqdm(range(nEpochs)):\n",
        "    # if epoch % 10 == 0:\n",
        "    #     print(\"Epoch \" + str(epoch) + '/' + str(nEpochs))\n",
        "    for x0, x1, x2, x3 in dl:\n",
        "        x_history = torch.stack([x1, x2, x3], axis = 1)\n",
        "        #x_history = torch.cat([x1, x2, x3], axis = 1)\n",
        "        f_list, g_list = model(x_history.to(device), x0.to(device)) #x1.to(device), x2.to(device), x3.to(device)\n",
        "        loss = neg_hscore_seq(f_list, g_list)\n",
        "        loss.backward()\n",
        "        opt.step()\n",
        "        opt.zero_grad()"
      ],
      "metadata": {
        "colab": {
          "base_uri": "https://localhost:8080/"
        },
        "id": "TBcbpJJzfmvA",
        "outputId": "7d2bd18b-86e6-4bda-d2b6-4956ae815de5"
      },
      "execution_count": 9,
      "outputs": [
        {
          "output_type": "stream",
          "name": "stderr",
          "text": [
            "100%|██████████| 100/100 [00:47<00:00,  2.13it/s]\n"
          ]
        }
      ]
    },
    {
      "cell_type": "markdown",
      "source": [
        "Compute features on the training set."
      ],
      "metadata": {
        "id": "49NlU97YHvC6"
      }
    },
    {
      "cell_type": "code",
      "source": [
        "f_train_list, g_train_list = model(torch.stack([X1, X2, X3], axis = 1).to(device), X0.to(device))"
      ],
      "metadata": {
        "id": "dzfhtaSyq7LW"
      },
      "execution_count": 10,
      "outputs": []
    },
    {
      "cell_type": "markdown",
      "source": [
        "Plot the depndence spectrum."
      ],
      "metadata": {
        "id": "gweEyuc6HOEz"
      }
    },
    {
      "cell_type": "code",
      "source": [
        "\n",
        "spec = torch.tensor([get_info(f_train_list[i], g_train_list[i]) for i in range(len(f_list))])\n",
        "print(spec)\n",
        "\n",
        "detach = lambda x: x.cpu().detach().numpy()\n",
        "\n",
        "import matplotlib.pyplot as plt\n",
        "plt.stem(detach(spec))\n",
        "\n",
        "\n"
      ],
      "metadata": {
        "id": "GQc3M7FqhuOI",
        "colab": {
          "base_uri": "https://localhost:8080/",
          "height": 466
        },
        "outputId": "ad0527fc-7dae-4080-d195-b4c82bbe622a"
      },
      "execution_count": 11,
      "outputs": [
        {
          "output_type": "stream",
          "name": "stdout",
          "text": [
            "tensor([0.0051, 0.2435, 0.0195])\n"
          ]
        },
        {
          "output_type": "execute_result",
          "data": {
            "text/plain": [
              "<StemContainer object of 3 artists>"
            ]
          },
          "metadata": {},
          "execution_count": 11
        },
        {
          "output_type": "display_data",
          "data": {
            "text/plain": [
              "<Figure size 640x480 with 1 Axes>"
            ],
            "image/png": "[encoded data removed]"
          },
          "metadata": {}
        }
      ]
    },
    {
      "cell_type": "markdown",
      "source": [
        "## Old Implementation\n",
        "Fully connected nets."
      ],
      "metadata": {
        "id": "78gQNYDcuorW"
      }
    },
    {
      "cell_type": "code",
      "source": [
        "\n",
        "\n",
        "\n",
        "# f1_train = model.f1_net(X1)\n",
        "# f2_train = model.f2_net([X1, X2])\n",
        "# f3_train = model.f3_net([X1, X2, X3])\n",
        "# g1_train = model.g1_net(X0)\n",
        "# g2_train = model.g2_net(X0)\n",
        "# g3_train = model.g3_net(X0)\n",
        "\n",
        "# info1 = get_info(f1_train, g1_train)\n",
        "# info2 = get_info(f2_train, g2_train)\n",
        "# info3 = get_info(f3_train, g3_train)\n",
        "\n",
        "kron2 = lambda x1, x2: torch.stack([torch.kron(x1[i], x2[i]) for i in range(len(x1))])\n",
        "\n",
        "class fc_net_kron(nn.Module):\n",
        "    # fully connected, with kronecker product of two variables as the input\n",
        "    def __init__(self, fdim, num_classes):\n",
        "        super().__init__()\n",
        "        self.fc = nn.Linear(num_classes, fdim)\n",
        "\n",
        "    def forward(self, x12):\n",
        "        x1, x2 = x12\n",
        "        x1x2 = kron2(x1, x2)\n",
        "        # row-wise kronecker product:\n",
        "        #     to convert (x1, x2) into x1 * x2_card + x2\n",
        "        f = self.fc(x1x2)\n",
        "        return f\n",
        "\n",
        "class fc_net_kron3(nn.Module):\n",
        "    # fully connected, with kronecker product of three variables as the input\n",
        "    def __init__(self, fdim, num_classes):\n",
        "        super().__init__()\n",
        "        self.fc = nn.Linear(num_classes, fdim)\n",
        "\n",
        "    def forward(self, x123):\n",
        "        x1, x2, x3 = x123\n",
        "        x1x2x3 = kron2(kron2(x1, x2), x3)\n",
        "        # row-wise kronecker product:\n",
        "        #     to convert (x1, x2, x3) into x1 * x2_card * x3_card + x2 * x3_card + x3\n",
        "        f = self.fc(x1x2x3)\n",
        "        return f\n",
        "\n",
        "# below is a special case up to 3rd order:\n",
        "class fg_nn_seq_3(nn.Module):\n",
        "    # 3rd order\n",
        "    def __init__(self, f_nets, g_nets):\n",
        "        super().__init__()\n",
        "        self.f1_net, self.f2_net, self.f3_net = f_nets\n",
        "        self.g1_net, self.g2_net, self.g3_net = g_nets\n",
        "\n",
        "    def forward(self, x0, x1, x2, x3):\n",
        "        f1 = self.f1_net(x1)\n",
        "        f2 = self.f2_net([x1, x2])\n",
        "        f3 = self.f3_net([x1, x2, x3])\n",
        "        g1 = self.g1_net(x0)\n",
        "        g2 = self.g2_net(x0)\n",
        "        g3 = self.g3_net(x0)\n",
        "        return [f1, f2, f3], [g1, g2, g3]\n",
        "\n",
        "k1 = 4\n",
        "k2 = 4\n",
        "k3 = 4\n",
        "f1_net = fc_net(k1, x_card)\n",
        "f2_net = fc_net_kron(k2, x_card ** 2)\n",
        "f3_net = fc_net_kron3(k3, x_card ** 3)\n",
        "g1_net = fc_net(k1, x_card)\n",
        "g2_net = fc_net(k2, x_card)\n",
        "g3_net = fc_net(k3, x_card)\n",
        "\n",
        "\n",
        "#model = fg_nn_seq_3([f1_net, f2_net, f3_net], [g1_net, g2_net, g3_net])\n",
        "\n",
        "def neg_hscore_seq_3(f_list, g_list):\n",
        "    f1, f2, f3 = f_list\n",
        "    g1, g2, g3 = g_list\n",
        "    f12 = torch.cat([f1, f2], axis = 1)\n",
        "    g12 = torch.cat([g1, g2], axis = 1)\n",
        "    f123 = torch.cat(f_list, axis = 1)\n",
        "    g123 = torch.cat(g_list, axis = 1)\n",
        "    res = neg_hscore(f1, g1) + neg_hscore(f12, g12) + neg_hscore(f123, g123)\n",
        "    return res\n",
        "\n"
      ],
      "metadata": {
        "id": "YXvACGfWUMaX"
      },
      "execution_count": 12,
      "outputs": []
    }
  ]
}